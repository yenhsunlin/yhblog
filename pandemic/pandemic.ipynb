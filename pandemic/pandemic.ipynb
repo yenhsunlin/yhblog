{
 "cells": [
  {
   "cell_type": "code",
   "execution_count": 1,
   "id": "78ea48f0",
   "metadata": {},
   "outputs": [],
   "source": [
    "import numpy as np\n",
    "import matplotlib.pyplot as plt\n",
    "import seaborn as sns\n",
    "sns.set(color_codes=True)\n",
    "from pandsim import *"
   ]
  },
  {
   "cell_type": "markdown",
   "id": "7630f754",
   "metadata": {},
   "source": [
    "## Single-core processing\n",
    "The following specified the basic properties of the simulation. The most important properties about the disease are:\n",
    "- The infectious parameters\n",
    "`inf_spec`=[$r_{\\rm inf}, t_{\\rm avg},t_{\\rm std}$]\n",
    "- The recovery parameters\n",
    "`recov_spec`=[$ t_{\\rm avg},t_{\\rm std}$]\n",
    "- The death parameters\n",
    "`dead_spec`=[$ t_{\\rm avg},t_{\\rm std}$]\n",
    "\n",
    "Note the $r_{\\rm inf}$ is the radii of the infectious zone. Only when subject enters this zone will trigger the program to sample the condition that if the subject will be infected. The unit is meter.\n",
    "Others like $t_{\\rm avg}$ and $t_{\\rm std}$ are the average time and standard deviation of reaching that condition. The unit is hour."
   ]
  },
  {
   "cell_type": "code",
   "execution_count": 2,
   "id": "139be4a3",
   "metadata": {},
   "outputs": [],
   "source": [
    "# Specified basic parameters\n",
    "# number of ill in the beginning\n",
    "n_ill = 1\n",
    "# number of health in the beginning\n",
    "n_health = 999\n",
    "# specified the parameters for infection, recovery and death\n",
    "inf_spec = [3,0.25,0.5]\n",
    "recov_spec = [35*24,10*24]\n",
    "dead_spec = [40*24,10*24]\n",
    "# Size of the box, meters\n",
    "box_size = [[-600,600],[-600,600]]\n",
    "# Initial positions of the subjects, meters\n",
    "prange = [[-600,600],[-600,600]]\n",
    "# Initial velocity of the subjects, meters/hour\n",
    "vrange = [5,30]\n",
    "# the protectability of wearing mask, it should be positive and larger than o1\n",
    "mask = None\n",
    "# size of the time step, the smaller the better resolution in time but also more time consuming\n",
    "dt = 0.1\n",
    "# How many days to be simulated. Just change the days instead of steps for convenience\n",
    "days = 30\n",
    "steps = int(days*24*(1/dt))\n",
    "# Should it save the data after running the simulation\n",
    "save_data = True\n",
    "# Should the programe adjust the dt size to resolve the enough time resolution when the user-input is too corase-grained?\n",
    "self_adaptive = False\n",
    "# Output summary plot dpi\n",
    "dpi = 150\n",
    "# Name of the disease. U stands unknown\n",
    "disease_name = 'C-Flu-2019'"
   ]
  },
  {
   "cell_type": "markdown",
   "id": "028a6cc6",
   "metadata": {},
   "source": [
    "In the above, I set `save_data=True`, which when the simulation is over, it will automatically save the simulated data into a folder named `disease_name` in the same location as this notebook. After running this simulation, it will also displays the corresponding time evolving statistics."
   ]
  },
  {
   "cell_type": "code",
   "execution_count": 3,
   "id": "dbfa30d8",
   "metadata": {},
   "outputs": [
    {
     "name": "stdout",
     "output_type": "stream",
     "text": [
      "Simulation with total 7200 steps completed in 65.911 seconds\n",
      "Data and summary plot are saved.\n",
      "Summary plot saved.\n"
     ]
    },
    {
     "data": {
      "image/png": "[encoded data removed]",
      "text/plain": [
       "<Figure size 432x288 with 1 Axes>"
      ]
     },
     "metadata": {},
     "output_type": "display_data"
    }
   ],
   "source": [
    "# Running the simulation according to the above specified properties\n",
    "_ = PandemicSimulation(n_ill = n_ill,n_health = n_health,steps = steps, dt = dt,\n",
    "                       inf_spec = inf_spec,recov_spec = recov_spec,dead_spec = dead_spec,\n",
    "                       mask_protect = mask, self_adaptive = self_adaptive, save_data = save_data,\n",
    "                       disease_name = disease_name, box_size = box_size,\n",
    "                       prange = prange, vrange = vrange,dpi=dpi)"
   ]
  },
  {
   "cell_type": "code",
   "execution_count": 4,
   "id": "95f37dd1",
   "metadata": {},
   "outputs": [],
   "source": [
    "# Load simulated data if you want to do something with it\n",
    "# If not, you can ignore this function\n",
    "summary,fullout = loadsim(disease_name)"
   ]
  },
  {
   "cell_type": "markdown",
   "id": "2c8c854c",
   "metadata": {},
   "source": [
    "If you want to draw the simulated data, you can use the following function. After running, it will also generate a log file `imginfo.txt`. Please do not delete it if you want to continue making a vide out of these figures. "
   ]
  },
  {
   "cell_type": "code",
   "execution_count": 5,
   "id": "f5ab9dce",
   "metadata": {},
   "outputs": [
    {
     "name": "stdout",
     "output_type": "stream",
     "text": [
      "Drawing process has completed in 25.3 seconds.\n",
      "Log file imginfo.txt saved!\n"
     ]
    }
   ],
   "source": [
    "# Plot the simulated data in each step (dt) into a PNG figure\n",
    "# to avoid plotting too many figures, one can ask the program to skip some of the steps by using skip\n",
    "# How many steps should be skipped between two plots. If it is None then no step will be skipped\n",
    "skip = 100\n",
    "drawsim(disease_name,skip=skip,dpi=dpi)"
   ]
  },
  {
   "cell_type": "markdown",
   "id": "69ef7750",
   "metadata": {},
   "source": [
    "When the `disease_name` is given, it will search the folder that stores the images plotted by `drawsim` via the log file `imginfo.txt`. "
   ]
  },
  {
   "cell_type": "code",
   "execution_count": 6,
   "id": "8c28a69b-8e75-478f-9cd6-20e66fed0def",
   "metadata": {
    "tags": []
   },
   "outputs": [],
   "source": [
    "# Make all the output figures into a single video, mp4 format\n",
    "# This function requires python OpenCV, cv2\n",
    "# If there are more than a thousand figures, it could take minutes to generate the video\n",
    "# The fps of the video\n",
    "fps = 10\n",
    "mkvideo(disease_name,fps=fps)"
   ]
  },
  {
   "cell_type": "markdown",
   "id": "76fee092-9c76-44d6-8243-538719a61f39",
   "metadata": {},
   "source": [
    "### Multiprocessing support for figure drawing\n",
    "\n",
    "The figure drawing function `drawsim` also has a multiprocessing counterpart called `drawsim_mp`. It's still experimental and is not imported automatically by default. You can use the following to import this. It is easily seen that by turning on the multip-core support, depending on the numbers of core available, the speed increases linearly."
   ]
  },
  {
   "cell_type": "code",
   "execution_count": 7,
   "id": "060d7873-c347-4aa2-81cb-8321e13df876",
   "metadata": {},
   "outputs": [],
   "source": [
    "# load multiprocessing drawsim_mp\n",
    "from drawsim_mp import drawsim_mp"
   ]
  },
  {
   "cell_type": "code",
   "execution_count": 8,
   "id": "b08ed930",
   "metadata": {},
   "outputs": [
    {
     "name": "stdout",
     "output_type": "stream",
     "text": [
      "Drawing process has completed in 7.97 seconds..\n",
      "Log file imginfo.txt saved!\n"
     ]
    }
   ],
   "source": [
    "# Experimental multiprocessing draw, it can significantly accelerate the drawing speed\n",
    "# If you encounter problems, please turn off this function and let me know the issue\n",
    "cores = 4\n",
    "skip = 100\n",
    "drawsim_mp('C-Flu-2019',skip=skip,dpi=dpi,cores=cores)"
   ]
  },
  {
   "cell_type": "code",
   "execution_count": null,
   "id": "679e02ee-47f2-4a4a-9e61-405b9f6d61eb",
   "metadata": {},
   "outputs": [],
   "source": []
  }
 ],
 "metadata": {
  "kernelspec": {
   "display_name": "Python 3",
   "language": "python",
   "name": "python3"
  },
  "language_info": {
   "codemirror_mode": {
    "name": "ipython",
    "version": 3
   },
   "file_extension": ".py",
   "mimetype": "text/x-python",
   "name": "python",
   "nbconvert_exporter": "python",
   "pygments_lexer": "ipython3",
   "version": "3.7.4"
  }
 },
 "nbformat": 4,
 "nbformat_minor": 5
}
